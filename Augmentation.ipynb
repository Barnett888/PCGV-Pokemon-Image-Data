{
 "cells": [
  {
   "cell_type": "markdown",
   "metadata": {},
   "source": [
    "Perform Data Augmentation\n"
   ]
  },
  {
   "cell_type": "code",
   "execution_count": 1,
   "metadata": {},
   "outputs": [],
   "source": [
    "import os\n",
    "import cv2\n",
    "import numpy as np\n",
    "import urllib.request\n",
    "import time\n",
    "from matplotlib import pyplot as plt\n",
    "import random"
   ]
  },
  {
   "cell_type": "code",
   "execution_count": 2,
   "metadata": {},
   "outputs": [],
   "source": [
    "from typing_extensions import Concatenate"
   ]
  },
  {
   "cell_type": "code",
   "execution_count": 3,
   "metadata": {},
   "outputs": [],
   "source": [
    "import albumentations as A"
   ]
  },
  {
   "cell_type": "code",
   "execution_count": 39,
   "metadata": {},
   "outputs": [],
   "source": [
    "# Define augmentation pipeline\n",
    "\n",
    "transform = A.Compose([\n",
    "    # Spatial Level Transform\n",
    "    A.Rotate(p=0.5),\n",
    "    A.HorizontalFlip(p=0.4),\n",
    "    A.VerticalFlip(p=0.4),\n",
    "    A.Perspective(p= 0.5),\n",
    "\n",
    "    # Pixel Level Transform\n",
    "    #A.FancyPCA(alpha=1.0, p= 1),\n",
    "    #A.RandomBrightnessContrast(p=0.5),\n",
    "    A.GaussNoise(p = 0.1),\n",
    "    A.CLAHE(p=1)\n",
    "])"
   ]
  },
  {
   "cell_type": "code",
   "execution_count": 6,
   "metadata": {},
   "outputs": [],
   "source": [
    "def visualize(image):\n",
    "    plt.figure(figsize=(10, 10))\n",
    "    plt.axis('off')\n",
    "    plt.imshow(image)"
   ]
  },
  {
   "cell_type": "markdown",
   "metadata": {},
   "source": [
    "Augment Mega Pokemons"
   ]
  },
  {
   "cell_type": "code",
   "execution_count": 16,
   "metadata": {},
   "outputs": [],
   "source": [
    "mega_dex_nums = ['003_f2','006_f2','006_f3','009_f2','015_f2','018_f2','065_f2','080_f2','094_f2','115_f2','127_f2','130_f2','142_f2',\n",
    "'150_f2','150_f3','181_f2','208_f2','212_f2','214_f2','229_f2','248_f2','254_f2','257_f2','260_f2','282_f2','302_f2','303_f2', '306_f2','308_f2',\n",
    "'310_f2','319_f2','323_f2','334_f2', '354_f2','359_f2','362_f2','373_f2','376_f2', '380_f2','381_f2','384_f2','428_f2','445_f2','448_f2',\n",
    "'460_f2','475_f2','531_f2','719_f2',] "
   ]
  },
  {
   "cell_type": "code",
   "execution_count": 17,
   "metadata": {},
   "outputs": [],
   "source": [
    "os.chdir('K:/Images/PKM_Mega/')"
   ]
  },
  {
   "cell_type": "code",
   "execution_count": 40,
   "metadata": {},
   "outputs": [],
   "source": [
    "for i in range(0,len(mega_dex_nums)):\n",
    "    os.chdir('K:/Images/PKM_Mega/Mega_' + '{}'.format(mega_dex_nums[i])+ '/')\n",
    "\n",
    "    image = cv2.imread('Mega_'+ '{}'.format(mega_dex_nums[i])+ '.png')\n",
    "    image = cv2.cvtColor(image, cv2.COLOR_BGR2RGB)\n",
    "\n",
    "    for j in range(4):\n",
    "        augmented_image = transform(image=image)['image']\n",
    "        augmented_image[np.where((image==[255,255,255]).all(axis=2))] = [0,0,0]\n",
    "        #visualize(augmented_image) \n",
    "        cv2.imwrite('trans_mega'+'{}'.format(j)+'.png',augmented_image)  \n",
    "     "
   ]
  },
  {
   "cell_type": "markdown",
   "metadata": {},
   "source": [
    "Augment Alola Forms"
   ]
  },
  {
   "cell_type": "code",
   "execution_count": 41,
   "metadata": {},
   "outputs": [],
   "source": [
    "alola_dex_nums = ['019_f2','020_f2','026_f2','027_f2','028_f2','037_f2','038_f2','050_f2','051_f2','052_f2','053_f2','074_f2',\n",
    "'075_f2','076_f2','088_f2','089_f2','103_f2','105_f2']"
   ]
  },
  {
   "cell_type": "code",
   "execution_count": 43,
   "metadata": {},
   "outputs": [],
   "source": [
    "os.chdir('K:/Images/PKM_Alola_Form/')\n",
    "\n",
    "for i in range(0,len(alola_dex_nums)):\n",
    "    os.chdir('K:/Images/PKM_Alola_Form/Alola_' + '{}'.format(alola_dex_nums[i])+ '/')\n",
    "\n",
    "    image = cv2.imread('Alola_'+ '{}'.format(alola_dex_nums[i])+ '.png')\n",
    "    image = cv2.cvtColor(image, cv2.COLOR_BGR2RGB)\n",
    "\n",
    "    for j in range(4):\n",
    "        augmented_image = transform(image=image)['image']\n",
    "        augmented_image[np.where((image==[255,255,255]).all(axis=2))] = [0,0,0]\n",
    "        #visualize(augmented_image) \n",
    "        cv2.imwrite('trans_alola'+'{}'.format(j)+'.png',augmented_image)  "
   ]
  },
  {
   "cell_type": "markdown",
   "metadata": {},
   "source": [
    "Augment Galar"
   ]
  },
  {
   "cell_type": "code",
   "execution_count": 44,
   "metadata": {},
   "outputs": [],
   "source": [
    "galar_dex_nums = ['052_f3','077_f2','078_f2','079_f2','080_f3','083_f2','110_f2','122_f2','144_f2','145_f2','146_f2','199_f2',\n",
    "'222_f2','263_f2','264_f2','554_f2','555_f2','562_f2','618_f2',]"
   ]
  },
  {
   "cell_type": "code",
   "execution_count": 52,
   "metadata": {},
   "outputs": [],
   "source": [
    "os.chdir('K:/Images/PKM_Galar_Form/')\n",
    "\n",
    "for i in range(0,len(galar_dex_nums)):\n",
    "    os.chdir('K:/Images/PKM_Galar_Form/Galar_' + '{}'.format(galar_dex_nums[i])+ '/')\n",
    "\n",
    "    image = cv2.imread('galar_'+ '{}'.format(galar_dex_nums[i])+ '.png')\n",
    "    image = cv2.cvtColor(image, cv2.COLOR_BGR2RGB)\n",
    "\n",
    "    for j in range(4):\n",
    "        augmented_image = transform(image=image)['image']\n",
    "        augmented_image[np.where((image==[255,255,255]).all(axis=2))] = [0,0,0]\n",
    "        #visualize(augmented_image) \n",
    "        cv2.imwrite('trans_galar'+'{}'.format(j)+'.png',augmented_image)  "
   ]
  },
  {
   "cell_type": "markdown",
   "metadata": {},
   "source": [
    "Augment Hisuian"
   ]
  },
  {
   "cell_type": "code",
   "execution_count": 47,
   "metadata": {},
   "outputs": [],
   "source": [
    "hisuian_dex_nums = ['058_f2','059_f2','100_f2','101_f2','157_f2','211_f2','215_f2','503_f2','549_f2','550_f2','550_f3','570_f2','571_f2',\n",
    "'628_f2','705_f2','706_f2','713_f2','724_f2',]"
   ]
  },
  {
   "cell_type": "code",
   "execution_count": 53,
   "metadata": {},
   "outputs": [],
   "source": [
    "os.chdir('K:/Images/PKM_Hisuian_Form/')\n",
    "\n",
    "for i in range(0,len(hisuian_dex_nums)):\n",
    "    os.chdir('K:/Images/PKM_Hisuian_Form/Hisuian_' + '{}'.format(hisuian_dex_nums[i])+ '/')\n",
    "\n",
    "    image = cv2.imread('hisuian_'+ '{}'.format(hisuian_dex_nums[i])+ '.png')\n",
    "    image = cv2.cvtColor(image, cv2.COLOR_BGR2RGB)\n",
    "\n",
    "    for j in range(4):\n",
    "        augmented_image = transform(image=image)['image']\n",
    "        augmented_image[np.where((image==[255,255,255]).all(axis=2))] = [0,0,0]\n",
    "        #visualize(augmented_image) \n",
    "        cv2.imwrite('trans_hisuian'+'{}'.format(j)+'.png',augmented_image)  "
   ]
  },
  {
   "cell_type": "markdown",
   "metadata": {},
   "source": [
    "Augment Gigantax max"
   ]
  },
  {
   "cell_type": "code",
   "execution_count": 49,
   "metadata": {},
   "outputs": [],
   "source": [
    "gigantamax_dex_nums = ['003_f3','006_f4','009_f3','012_f2','025_f2','052_f4','068_f2','094_f3','099_f2','131_f2','133_f2','143_f2',\n",
    "'569_f2','809_f2','812_f2','815_f2','818_f2','823_f2','826_f2','834_f2','839_f2','841_f2','842_f2','844_f2','849_f3','858_f2',\n",
    "'861_f2','869_f2','879_f2','884_f2','892_f3','892_f4',]"
   ]
  },
  {
   "cell_type": "code",
   "execution_count": 54,
   "metadata": {},
   "outputs": [],
   "source": [
    "os.chdir('K:/Images/PKM_Gigantamax/')\n",
    "\n",
    "for i in range(0,len(gigantamax_dex_nums)):\n",
    "    os.chdir('K:/Images/PKM_Gigantamax/Gigantamax_' + '{}'.format(gigantamax_dex_nums[i])+ '/')\n",
    "\n",
    "    image = cv2.imread('gigantamax_'+ '{}'.format(gigantamax_dex_nums[i])+ '.png')\n",
    "    image = cv2.cvtColor(image, cv2.COLOR_BGR2RGB)\n",
    "\n",
    "    for j in range(4):\n",
    "        augmented_image = transform(image=image)['image']\n",
    "        augmented_image[np.where((image==[255,255,255]).all(axis=2))] = [0,0,0]\n",
    "        #visualize(augmented_image) \n",
    "        cv2.imwrite('trans_gigantamax'+'{}'.format(j)+'.png',augmented_image)  "
   ]
  },
  {
   "cell_type": "markdown",
   "metadata": {},
   "source": [
    "Augment National Dex"
   ]
  },
  {
   "cell_type": "code",
   "execution_count": 57,
   "metadata": {},
   "outputs": [],
   "source": [
    "os.chdir('K:/Images/PKM_National_Dex')\n",
    "\n",
    "for i in range(1,898):\n",
    "    os.chdir('K:/Images/PKM_National_Dex/' + '{:04d}'.format(i)+ '/')\n",
    "\n",
    "    image = cv2.imread('{:04d}'.format(i)+ '.png')\n",
    "    image = cv2.cvtColor(image, cv2.COLOR_BGR2RGB)\n",
    "\n",
    "    for j in range(4):\n",
    "        augmented_image = transform(image=image)['image']\n",
    "        augmented_image[np.where((image==[255,255,255]).all(axis=2))] = [0,0,0]\n",
    "        #visualize(augmented_image) \n",
    "        cv2.imwrite('trans_national_dex'+'{}'.format(j)+'.png',augmented_image)  "
   ]
  }
 ],
 "metadata": {
  "kernelspec": {
   "display_name": "Python 3.9.6 64-bit",
   "language": "python",
   "name": "python3"
  },
  "language_info": {
   "codemirror_mode": {
    "name": "ipython",
    "version": 3
   },
   "file_extension": ".py",
   "mimetype": "text/x-python",
   "name": "python",
   "nbconvert_exporter": "python",
   "pygments_lexer": "ipython3",
   "version": "3.9.6"
  },
  "orig_nbformat": 4,
  "vscode": {
   "interpreter": {
    "hash": "adb86c806d1a1e450726b87c6313070a66ac1e976cbcb45b14b252ba3cee350e"
   }
  }
 },
 "nbformat": 4,
 "nbformat_minor": 2
}
